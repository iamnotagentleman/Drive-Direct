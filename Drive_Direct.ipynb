{
  "nbformat": 4,
  "nbformat_minor": 0,
  "metadata": {
    "colab": {
      "name": "Drive-Direct.ipynb",
      "provenance": [],
      "collapsed_sections": [],
      "toc_visible": true,
      "authorship_tag": "ABX9TyOsnbAwJhP+cXMlcPxYpjzU",
      "include_colab_link": true
    },
    "kernelspec": {
      "name": "python3",
      "display_name": "Python 3"
    }
  },
  "cells": [
    {
      "cell_type": "markdown",
      "metadata": {
        "id": "view-in-github",
        "colab_type": "text"
      },
      "source": [
        "<a href=\"https://colab.research.google.com/github/iamnotagentleman/Drive-Direct/blob/master/Drive_Direct.ipynb\" target=\"_parent\"><img src=\"https://colab.research.google.com/assets/colab-badge.svg\" alt=\"Open In Colab\"/></a>"
      ]
    },
    {
      "cell_type": "markdown",
      "metadata": {
        "id": "FWmawkEdqKXT",
        "colab_type": "text"
      },
      "source": [
        "**Drive Direct**\n",
        "\n"
      ]
    },
    {
      "cell_type": "markdown",
      "metadata": {
        "id": "oiPsgYm_qeeS",
        "colab_type": "text"
      },
      "source": [
        "**How To Use** <br>\n",
        "* Navigate to the appropriate section for the file you want to \n",
        "download and change to url parameter and click run."
      ]
    },
    {
      "cell_type": "markdown",
      "metadata": {
        "id": "RxNh-7DU0Xcw",
        "colab_type": "text"
      },
      "source": [
        "**Storage Trick:** Go to Runtime -> Change Runtime and give GPU as the Hardware Accelerator. You will get approx. 384GB Storage\n"
      ]
    },
    {
      "cell_type": "markdown",
      "metadata": {
        "id": "Ehm2oayfrExb",
        "colab_type": "text"
      },
      "source": [
        "**FILE DOWNLOAD TO DRIVE FROM WWW**\n",
        "\n"
      ]
    },
    {
      "cell_type": "code",
      "metadata": {
        "id": "sky0zKFhwTcr",
        "colab_type": "code",
        "colab": {
          "base_uri": "https://localhost:8080/",
          "height": 52
        },
        "outputId": "f6d47596-38eb-4090-d648-aca658b36441"
      },
      "source": [
        "import requests\n",
        "import shutil\n",
        "from typing import AnyStr\n",
        "import re\n",
        "from google.colab import drive\n",
        "import os\n",
        "\n",
        "drive.mount(\"/content/drive\", force_remount=True)\n",
        "\n",
        "# PARAMS HERE\n",
        "params = {\n",
        "    # Change Here (URL)\n",
        "    \"url\": \"http://ipv4.download.thinkbroadband.com/100MB.zip\",\n",
        "    \"output_folder\": \"/content/drive/My Drive/Downloads/\",\n",
        "    # change here for custom file name\n",
        "    \"local_file_name\": \"\",\n",
        "}\n",
        "if not os.path.exists(params.get('output_folder')):\n",
        "      os.makedirs(params.get('output_folder'))\n",
        "def download(url: AnyStr, output_folder: AnyStr, local_file_name: AnyStr,):\n",
        "    with requests.get(url, stream=True) as r:\n",
        "      if not local_file_name:\n",
        "        d = r.headers.get('content-disposition')\n",
        "        if d:\n",
        "          local_file_name = re.findall(\"filename=(.+)\", d)[0]\n",
        "        else:\n",
        "          local_file_name = url.split(\"/\")[-1]\n",
        "      with open(output_folder + local_file_name, 'wb') as f:\n",
        "        shutil.copyfileobj(r.raw, f)\n",
        "    return f\"{local_file_name} file download finish.\"\n",
        "download(**params)"
      ],
      "execution_count": null,
      "outputs": [
        {
          "output_type": "stream",
          "text": [
            "Mounted at /content/drive\n"
          ],
          "name": "stdout"
        },
        {
          "output_type": "execute_result",
          "data": {
            "application/vnd.google.colaboratory.intrinsic+json": {
              "type": "string"
            },
            "text/plain": [
              "'100MB.zip file download finish.'"
            ]
          },
          "metadata": {
            "tags": []
          },
          "execution_count": 9
        }
      ]
    },
    {
      "cell_type": "markdown",
      "metadata": {
        "id": "OO909nVDwF56",
        "colab_type": "text"
      },
      "source": [
        "**Download Videos from websites (Youtube, Twitter, Vimeo, etc.) Check Full list of supported websites: https://ytdl-org.github.io/youtube-dl/supportedsites.html**\n",
        "\n"
      ]
    },
    {
      "cell_type": "code",
      "metadata": {
        "id": "RJDM7EFOsoUY",
        "colab_type": "code",
        "colab": {
          "base_uri": "https://localhost:8080/",
          "height": 289
        },
        "outputId": "ae6216c5-6b77-4caf-d7a0-fd76f5244dc5"
      },
      "source": [
        "!pip install youtube_dl\n",
        "\n",
        "from google.colab import drive\n",
        "\n",
        "drive.mount(\"/content/drive\", force_remount=True)\n",
        "\n",
        "import youtube_dl\n",
        "\n",
        "# PARAMS HERE\n",
        "params = {\n",
        "    # CHANGE HERE (Video URL)\n",
        "    \"url\": \"https://www.youtube.com/watch?v=C4Kc8xzcA68\",\n",
        "    \"output_folder\": \"/content/drive/My Drive/Downloads/Videos/\",\n",
        "}\n",
        "\n",
        "if not os.path.exists(params.get('output_folder')):\n",
        "      os.makedirs(params.get('output_folder'))\n",
        "\n",
        "ydl = youtube_dl.YoutubeDL({'outtmpl': params.get('output_folder') + '%(title)s.%(ext)s'})\n",
        "\n",
        "with ydl:\n",
        "  result = ydl.download([params.get(\"url\")])"
      ],
      "execution_count": null,
      "outputs": [
        {
          "output_type": "stream",
          "text": [
            "Collecting youtube_dl\n",
            "\u001b[?25l  Downloading https://files.pythonhosted.org/packages/a7/d2/6934d56f95a2aaa8b3aad67dea48d1864b975298e1cab96cf816b6771746/youtube_dl-2020.9.6-py2.py3-none-any.whl (1.8MB)\n",
            "\u001b[K     |████████████████████████████████| 1.8MB 2.8MB/s \n",
            "\u001b[?25hInstalling collected packages: youtube-dl\n",
            "Successfully installed youtube-dl-2020.9.6\n",
            "Mounted at /content/drive\n",
            "[youtube] C4Kc8xzcA68: Downloading webpage\n"
          ],
          "name": "stdout"
        },
        {
          "output_type": "stream",
          "text": [
            "WARNING: Requested formats are incompatible for merge and will be merged into mkv.\n"
          ],
          "name": "stderr"
        },
        {
          "output_type": "stream",
          "text": [
            "[download] Destination: /content/drive/My Drive/Downloads/Videos/PyCon 2010 - The Mighty Dictionary.f133.mp4\n",
            "[download] 100% of 54.57MiB in 00:16\n",
            "[download] Destination: /content/drive/My Drive/Downloads/Videos/PyCon 2010 - The Mighty Dictionary.f251.webm\n",
            "[download] 100% of 28.75MiB in 00:01\n",
            "[ffmpeg] Merging formats into \"/content/drive/My Drive/Downloads/Videos/PyCon 2010 - The Mighty Dictionary.mkv\"\n",
            "Deleting original file /content/drive/My Drive/Downloads/Videos/PyCon 2010 - The Mighty Dictionary.f133.mp4 (pass -k to keep)\n",
            "Deleting original file /content/drive/My Drive/Downloads/Videos/PyCon 2010 - The Mighty Dictionary.f251.webm (pass -k to keep)\n"
          ],
          "name": "stdout"
        }
      ]
    },
    {
      "cell_type": "markdown",
      "metadata": {
        "id": "SebGPw3NwdLA",
        "colab_type": "text"
      },
      "source": [
        "**File download via TORRENT**"
      ]
    },
    {
      "cell_type": "code",
      "metadata": {
        "id": "szD3V2ufwdnd",
        "colab_type": "code",
        "colab": {}
      },
      "source": [
        "!apt install python3-libtorrent\n",
        "\n",
        "\n",
        "from google.colab import drive\n",
        "import libtorrent as lt\n",
        "import time\n",
        "import datetime\n",
        "\n",
        "drive.mount('/content/drive', force_remount=True)\n",
        "\n",
        "ses = lt.session()\n",
        "ses.listen_on(6881, 6891)\n",
        "params = {\n",
        "    'save_path': '/content/drive/My Drive/Downloads/Torrent/',\n",
        "    'storage_mode': lt.storage_mode_t(2),\n",
        "    'paused': False,\n",
        "    'auto_managed': True,\n",
        "    'duplicate_is_error': True}\n",
        "\n",
        "# Change Here (Torrent Url)\n",
        "url = \"https://yts.mx/torrent/download/A54926C2E07B0E5F0243954330B599B31C804F0B\"\n",
        "\n",
        "handle = lt.add_magnet_uri(ses, url, params)\n",
        "ses.start_dht()\n",
        "\n",
        "while (not handle.has_metadata()):\n",
        "    time.sleep(1)\n",
        "\n",
        "print(\"Starting\", handle.name())\n",
        "\n",
        "while (handle.status().state != lt.torrent_status.seeding):\n",
        "    s = handle.status()\n",
        "    print(\n",
        "        f\"% {round(s.progress * 100, 3)} completed (down: {s.download_rate / 1000} kb/s up: {s.upload_rate / 1000},\"\n",
        "        f\" peers: {s.num_peers}\")\n",
        "    time.sleep(3)\n",
        "\n",
        "print(handle.name(), \"COMPLETED\")\n"
      ],
      "execution_count": null,
      "outputs": []
    },
    {
      "cell_type": "markdown",
      "metadata": {
        "id": "EiJrAVZzwd_w",
        "colab_type": "text"
      },
      "source": [
        ""
      ]
    }
  ]
}